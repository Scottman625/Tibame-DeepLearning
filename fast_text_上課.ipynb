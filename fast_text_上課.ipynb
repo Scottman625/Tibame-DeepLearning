{
  "nbformat": 4,
  "nbformat_minor": 0,
  "metadata": {
    "colab": {
      "name": "fast_text_上課.ipynb",
      "provenance": [],
      "include_colab_link": true
    },
    "kernelspec": {
      "name": "python3",
      "display_name": "Python 3"
    },
    "accelerator": "GPU"
  },
  "cells": [
    {
      "cell_type": "markdown",
      "metadata": {
        "id": "view-in-github",
        "colab_type": "text"
      },
      "source": [
        "<a href=\"https://colab.research.google.com/github/Scottman625/Tibame-DeepLearning/blob/main/fast_text_%E4%B8%8A%E8%AA%B2.ipynb\" target=\"_parent\"><img src=\"https://colab.research.google.com/assets/colab-badge.svg\" alt=\"Open In Colab\"/></a>"
      ]
    },
    {
      "cell_type": "code",
      "metadata": {
        "id": "HkZo-KWNetI4",
        "colab": {
          "base_uri": "https://localhost:8080/"
        },
        "outputId": "281a76ea-ad12-4f3c-d27f-fa3502dce792"
      },
      "source": [
        "# 下載fasttext千錘百鍊預訓練好的詞向量\n",
        "!wget https://dl.fbaipublicfiles.com/fasttext/vectors-crawl/cc.zh.300.bin.gz\n",
        "!gunzip cc.zh.300.bin.gz"
      ],
      "execution_count": null,
      "outputs": [
        {
          "output_type": "stream",
          "name": "stdout",
          "text": [
            "--2022-01-06 03:43:42--  https://dl.fbaipublicfiles.com/fasttext/vectors-crawl/cc.zh.300.bin.gz\n",
            "Resolving dl.fbaipublicfiles.com (dl.fbaipublicfiles.com)... 104.22.75.142, 104.22.74.142, 172.67.9.4, ...\n",
            "Connecting to dl.fbaipublicfiles.com (dl.fbaipublicfiles.com)|104.22.75.142|:443... connected.\n",
            "HTTP request sent, awaiting response... 200 OK\n",
            "Length: 4478681770 (4.2G) [application/octet-stream]\n",
            "Saving to: ‘cc.zh.300.bin.gz’\n",
            "\n",
            "cc.zh.300.bin.gz    100%[===================>]   4.17G  21.4MB/s    in 3m 23s  \n",
            "\n",
            "2022-01-06 03:47:05 (21.1 MB/s) - ‘cc.zh.300.bin.gz’ saved [4478681770/4478681770]\n",
            "\n"
          ]
        }
      ]
    },
    {
      "cell_type": "code",
      "metadata": {
        "id": "eVlV9SjqgWFS"
      },
      "source": [
        "from gensim.models.fasttext import FastText\n",
        "model = FastText.load_fasttext_format('cc.zh.300.bin')"
      ],
      "execution_count": null,
      "outputs": []
    },
    {
      "cell_type": "code",
      "metadata": {
        "id": "weRojINDubAO"
      },
      "source": [
        "import warnings\n",
        "warnings.filterwarnings(\"ignore\", category=FutureWarning)"
      ],
      "execution_count": null,
      "outputs": []
    },
    {
      "cell_type": "code",
      "metadata": {
        "id": "laoDFP6-Lr4l",
        "colab": {
          "base_uri": "https://localhost:8080/"
        },
        "outputId": "72bf42d6-caa3-4ff5-8ff8-97beaaaed7d6"
      },
      "source": [
        "# 我們的模型裡面有多少個詞\n",
        "len(model.wv.vocab)"
      ],
      "execution_count": null,
      "outputs": [
        {
          "output_type": "execute_result",
          "data": {
            "text/plain": [
              "2000000"
            ]
          },
          "metadata": {},
          "execution_count": 5
        }
      ]
    },
    {
      "cell_type": "code",
      "metadata": {
        "id": "Wue-ACwcDKmh",
        "colab": {
          "base_uri": "https://localhost:8080/"
        },
        "outputId": "1f758460-6f87-4a81-8346-5d09ce454b29"
      },
      "source": [
        "word = \"\\u5468\\u6770\\u502B\"#@param {type:\"string\"}\n",
        "print(word, \"長這樣:\")\n",
        "model.wv[word]"
      ],
      "execution_count": null,
      "outputs": [
        {
          "output_type": "stream",
          "name": "stdout",
          "text": [
            "周杰倫 長這樣:\n"
          ]
        },
        {
          "output_type": "execute_result",
          "data": {
            "text/plain": [
              "array([-0.06417622, -0.07755239,  0.08411184,  0.22523576, -0.0854517 ,\n",
              "        0.05507534, -0.0719581 , -0.02633045,  0.36580244, -0.04671447,\n",
              "       -0.07201375,  0.08179424,  0.06176071, -0.03386925, -0.12199773,\n",
              "        0.01890981, -0.16104619,  0.06150802, -0.02700941, -0.09594997,\n",
              "       -0.01289377, -0.0821996 , -0.19691592, -0.05326241,  0.02934106,\n",
              "        0.03954047, -0.01107728,  0.06737816, -0.135158  ,  0.07702958,\n",
              "        0.06764923,  0.10228842,  0.11147463, -0.02219759, -0.03494326,\n",
              "        0.11606849, -0.0885908 ,  0.06172001, -0.03838678,  0.08895351,\n",
              "        0.15561594, -0.07232966,  0.14957362, -0.10955278, -0.01936073,\n",
              "        0.01400912, -0.03582732, -0.09865607, -0.1818452 , -0.06274772,\n",
              "        0.03716094, -0.01877634, -0.00147134,  0.18095887, -0.0889954 ,\n",
              "        0.07718305, -0.06104054, -0.09978639, -0.09947109,  0.00714104,\n",
              "        0.08680629,  0.0092528 ,  0.12614204, -0.20042036,  0.04458365,\n",
              "       -0.00451244, -0.12626085, -0.01436893,  0.05289337,  0.10686627,\n",
              "       -0.06992423,  0.09361816,  0.07790398,  0.00548523,  0.0835695 ,\n",
              "        0.00472235, -0.10031609, -0.1527904 ,  0.11443494,  0.0523663 ,\n",
              "        0.03499095,  0.05249704, -0.04857901,  0.19446321,  0.03532626,\n",
              "       -0.02164781, -0.0666107 , -0.22050528,  0.243305  ,  0.03187259,\n",
              "       -0.13622558, -0.1592277 , -0.13151763,  0.00144756,  0.22454423,\n",
              "        0.24816324, -0.10110629, -0.0160581 , -0.10549484,  0.01165936,\n",
              "       -0.2897647 , -0.07475366, -0.11925912,  0.08749937, -0.13267544,\n",
              "        0.06447362, -0.08532773, -0.066323  ,  0.21659209,  0.16469474,\n",
              "        0.08341683,  0.08569273,  0.16981535,  0.07919911, -0.03369264,\n",
              "       -0.02991951,  0.15230167,  0.0681526 ,  0.08027207,  0.05517146,\n",
              "        0.14733353,  0.04912957,  0.00548819, -0.06433842, -0.12001394,\n",
              "       -0.06136275,  0.0279917 ,  0.02883825,  0.0168262 ,  0.09383772,\n",
              "       -0.16466005, -0.03135021, -0.18615367, -0.15509897,  0.07176343,\n",
              "       -0.01614935, -0.14027198,  0.03710556, -0.09874155,  0.06677813,\n",
              "        0.06288499,  0.07290816, -0.06572436,  0.07817785, -0.02336262,\n",
              "       -0.00300135,  0.18266244, -0.04933443, -0.1137353 ,  0.1839977 ,\n",
              "       -0.23582523, -0.1655531 , -0.07563005, -0.11709294, -0.02000739,\n",
              "        0.02124023, -0.00196918,  0.1232266 , -0.14611301, -0.02086009,\n",
              "        0.01371465,  0.06210502,  0.13336733,  0.08764802, -0.09813412,\n",
              "       -0.01033943,  0.0460101 , -0.00600162,  0.01165328,  0.06817019,\n",
              "       -0.21763548,  0.11102769, -0.03621735,  0.21094444, -0.0393517 ,\n",
              "       -0.1485771 ,  0.05075572, -0.06216788,  0.22143479,  0.12557843,\n",
              "       -0.01552289,  0.0017191 ,  0.02119801, -0.00064375,  0.08199645,\n",
              "        0.02605249, -0.06934209,  0.06318372,  0.0523532 ,  0.31369334,\n",
              "        0.08185361, -0.06544613, -0.0205976 ,  0.14308476,  0.16360255,\n",
              "       -0.08329526,  0.03286099, -0.06976395,  0.1449056 , -0.04663375,\n",
              "        0.04790121, -0.0904481 , -0.07189166, -0.01005132, -0.0818469 ,\n",
              "        0.01375734,  0.1817226 , -0.09130295, -0.16607462, -0.02826225,\n",
              "        0.13210814, -0.16402462, -0.11828139, -0.02181705, -0.01812283,\n",
              "       -0.1305441 ,  0.13609585,  0.00477585,  0.14723909, -0.02592146,\n",
              "        0.00403216, -0.0678535 ,  0.1447762 , -0.00761856,  0.0997175 ,\n",
              "        0.01744689, -0.01141074,  0.08134282,  0.05796093, -0.24819432,\n",
              "       -0.04795733,  0.4606604 ,  0.12918235,  0.09046016,  0.01721688,\n",
              "        0.06045454, -0.0198473 ,  0.15157142, -0.05939115, -0.10956194,\n",
              "        0.00729323, -0.08840233, -0.02790275, -0.04621983,  0.06297782,\n",
              "        0.05487661, -0.13380393,  0.14466362,  0.04983006, -0.00542514,\n",
              "        0.03061581, -0.01933558,  0.0922169 , -0.03834131, -0.05149896,\n",
              "        0.00270429, -0.02178553, -0.04983791,  0.14500232,  0.17273934,\n",
              "        0.01013364, -0.01400262,  0.03450814, -0.00693401, -0.0550384 ,\n",
              "        0.09188498,  0.00894263,  0.07430709,  0.07737454,  0.00541916,\n",
              "        0.20889604, -0.03873964, -0.05089135,  0.14584209,  0.13813347,\n",
              "       -0.1670243 ,  0.00230442, -0.18413249,  0.12114768, -0.03518264,\n",
              "        0.24800411, -0.15308385, -0.04796648, -0.07352204,  0.0184295 ,\n",
              "        0.15278982, -0.0028335 ,  0.03089469, -0.12090987, -0.00195139,\n",
              "        0.03867342,  0.05494728,  0.00342496,  0.02700042,  0.03755685,\n",
              "       -0.05820559,  0.12135761,  0.00155645,  0.05219711, -0.05699483],\n",
              "      dtype=float32)"
            ]
          },
          "metadata": {},
          "execution_count": 6
        }
      ]
    },
    {
      "cell_type": "code",
      "metadata": {
        "id": "QdjjywfL8GTq",
        "colab": {
          "base_uri": "https://localhost:8080/"
        },
        "outputId": "cd7d9056-9b82-45aa-e21d-82209ac16e95"
      },
      "source": [
        "#@title 找出相似詞!!!\n",
        "\n",
        "text = '\\u4E94\\u6708\\u5929' #@param {type:\"string\"}\n",
        "model.wv.most_similar(text)"
      ],
      "execution_count": null,
      "outputs": [
        {
          "output_type": "execute_result",
          "data": {
            "text/plain": [
              "[('阿信', 0.572206974029541),\n",
              " ('苏打绿', 0.5617806315422058),\n",
              " ('OAOA', 0.5575294494628906),\n",
              " ('蘇打綠', 0.5484316945075989),\n",
              " ('為什麼日文', 0.5375053882598877),\n",
              " ('盧廣仲', 0.5309724807739258),\n",
              " ('王力宏', 0.5296158194541931),\n",
              " ('冠佑', 0.5257812738418579),\n",
              " ('盛夏光年', 0.5253021717071533),\n",
              " ('入陣曲', 0.5252596735954285)]"
            ]
          },
          "metadata": {},
          "execution_count": 7
        }
      ]
    },
    {
      "cell_type": "code",
      "metadata": {
        "colab": {
          "base_uri": "https://localhost:8080/"
        },
        "id": "4Pj8XhJoLWDA",
        "outputId": "bd24a7f3-4e40-4d68-e199-a7f9bc1c1d45"
      },
      "source": [
        "\"轉蛋\" in model.wv.vocab"
      ],
      "execution_count": null,
      "outputs": [
        {
          "output_type": "execute_result",
          "data": {
            "text/plain": [
              "True"
            ]
          },
          "metadata": {},
          "execution_count": 8
        }
      ]
    },
    {
      "cell_type": "code",
      "metadata": {
        "id": "lJORaH4JNzDS",
        "colab": {
          "base_uri": "https://localhost:8080/"
        },
        "outputId": "1996d940-be79-48e4-dad1-1f4d478aca24"
      },
      "source": [
        "#@title 比較兩個特定詞的相似度\n",
        "\n",
        "text1 = '\\u4E94\\u6708\\u5929' #@param {type:\"string\"}\n",
        "text2 = '\\u8607\\u6253\\u7DA0' #@param {type:\"string\"}\n",
        "model.wv.similarity(text1, text2)"
      ],
      "execution_count": null,
      "outputs": [
        {
          "output_type": "execute_result",
          "data": {
            "text/plain": [
              "0.5484317"
            ]
          },
          "metadata": {},
          "execution_count": 9
        }
      ]
    },
    {
      "cell_type": "code",
      "metadata": {
        "id": "A3m66PlJJzgo",
        "colab": {
          "base_uri": "https://localhost:8080/"
        },
        "outputId": "caf11066-6293-4062-be26-f0422b9ba462"
      },
      "source": [
        "#@title 找到不是同一掛的詞\n",
        "\n",
        "text1 = '\\u5927S' #@param {type:\"string\"}\n",
        "text2 = '\\u5C0FS' #@param {type:\"string\"}\n",
        "text3 = '\\u6296S' #@param {type:\"string\"}\n",
        "text4 = '\\u5F29S' #@param {type:\"string\"}\n",
        "\n",
        "notmatch = model.wv.doesnt_match([text1, text2, text3, text4])\n",
        "print(\"不是同一掛的:\", notmatch)"
      ],
      "execution_count": null,
      "outputs": [
        {
          "output_type": "stream",
          "name": "stdout",
          "text": [
            "不是同一掛的: 抖S\n"
          ]
        }
      ]
    },
    {
      "cell_type": "code",
      "metadata": {
        "id": "i2kMoj47KTl1",
        "colab": {
          "base_uri": "https://localhost:8080/"
        },
        "outputId": "8ad49b43-b3de-4fa9-b67d-54669a91458f"
      },
      "source": [
        "#@title 給電腦做智力測驗(詞1 - 詞3 = ? - 詞2)\n",
        "\n",
        "# text1 + text2 - text3 = ?\n",
        "# text1 - text3 = ? - text2\n",
        "text1 = '\\u674E\\u767D' #@param {type:\"string\"}\n",
        "text2 = '\\u5B8B\\u671D' #@param {type:\"string\"}\n",
        "text3 = '\\u5510\\u671D' #@param {type:\"string\"}\n",
        "question = model.wv.most_similar(positive=[text1, text2], negative=[text3])\n",
        "print(text1, \"-\", text3, \"=\", \"?\", \"-\", text2)\n",
        "question"
      ],
      "execution_count": null,
      "outputs": [
        {
          "output_type": "stream",
          "name": "stdout",
          "text": [
            "李白 - 唐朝 = ? - 宋朝\n"
          ]
        },
        {
          "output_type": "execute_result",
          "data": {
            "text/plain": [
              "[('苏轼', 0.6228288412094116),\n",
              " ('陆游', 0.6006007790565491),\n",
              " ('朱熹', 0.5807315111160278),\n",
              " ('杜甫', 0.5561124086380005),\n",
              " ('欧阳修', 0.5527241230010986),\n",
              " ('黄庭坚', 0.552383303642273),\n",
              " ('李清照', 0.552232027053833),\n",
              " ('王安石', 0.5474939346313477),\n",
              " ('范仲淹', 0.5430347919464111),\n",
              " ('赠汪伦', 0.5361371636390686)]"
            ]
          },
          "metadata": {},
          "execution_count": 11
        }
      ]
    },
    {
      "cell_type": "code",
      "metadata": {
        "colab": {
          "base_uri": "https://localhost:8080/"
        },
        "id": "TguMjAi-NZDY",
        "outputId": "65cbd297-938a-4b9b-fbf5-15e8409361b7"
      },
      "source": [
        "text1 = '\\u570B\\u738B' #@param {type:\"string\"}\n",
        "text3 = '\\u7537\\u4EBA' #@param {type:\"string\"}\n",
        "question = model.wv.most_similar(positive=[text1], negative=[text3])\n",
        "question"
      ],
      "execution_count": null,
      "outputs": [
        {
          "output_type": "execute_result",
          "data": {
            "text/plain": [
              "[('歷代國王', 0.350273072719574),\n",
              " ('一世時', 0.34965500235557556),\n",
              " ('圖普', 0.3472058176994324),\n",
              " ('卡溫', 0.3407924771308899),\n",
              " ('亞帆', 0.33934980630874634),\n",
              " ('為安南', 0.33929067850112915),\n",
              " ('諾羅敦·西哈莫尼', 0.33792954683303833),\n",
              " ('王后為', 0.33732885122299194),\n",
              " ('哈康七世', 0.3314265310764313),\n",
              " ('馬加什', 0.32851898670196533)]"
            ]
          },
          "metadata": {},
          "execution_count": 12
        }
      ]
    },
    {
      "cell_type": "code",
      "metadata": {
        "id": "gi-SM9U21jvW",
        "colab": {
          "base_uri": "https://localhost:8080/"
        },
        "outputId": "fc874fc2-ec2c-419c-dcc7-76ee78229859"
      },
      "source": [
        "text = \"周凡剛\"\n",
        "print(\"周凡剛有在字典裡?\", text in model.wv.vocab)\n",
        "model.wv.most_similar(text)"
      ],
      "execution_count": null,
      "outputs": [
        {
          "output_type": "stream",
          "name": "stdout",
          "text": [
            "周凡剛有在字典裡? False\n"
          ]
        },
        {
          "output_type": "execute_result",
          "data": {
            "text/plain": [
              "[('Plurk.com', 0.7311971187591553),\n",
              " ('//www.plurk.com/ddrrelmax', 0.3652145564556122),\n",
              " ('浪唄', 0.3061898648738861),\n",
              " ('類♥♥', 0.2966107130050659),\n",
              " ('吧來撲', 0.2959628701210022),\n",
              " ('媽咪愛碎碎', 0.27673715353012085),\n",
              " ('293031', 0.2752768397331238),\n",
              " ('玩噗', 0.27147096395492554),\n",
              " ('動口不動手現', 0.26459649205207825),\n",
              " ('海用', 0.26184791326522827)]"
            ]
          },
          "metadata": {},
          "execution_count": 13
        }
      ]
    }
  ]
}